{
 "cells": [
  {
   "cell_type": "code",
   "execution_count": 10,
   "id": "d95b56e3",
   "metadata": {},
   "outputs": [
    {
     "data": {
      "text/html": [
       "<div>\n",
       "<style scoped>\n",
       "    .dataframe tbody tr th:only-of-type {\n",
       "        vertical-align: middle;\n",
       "    }\n",
       "\n",
       "    .dataframe tbody tr th {\n",
       "        vertical-align: top;\n",
       "    }\n",
       "\n",
       "    .dataframe thead th {\n",
       "        text-align: right;\n",
       "    }\n",
       "</style>\n",
       "<table border=\"1\" class=\"dataframe\">\n",
       "  <thead>\n",
       "    <tr style=\"text-align: right;\">\n",
       "      <th></th>\n",
       "      <th>AtBat</th>\n",
       "      <th>Hits</th>\n",
       "      <th>HmRun</th>\n",
       "      <th>Runs</th>\n",
       "      <th>RBI</th>\n",
       "      <th>Walks</th>\n",
       "      <th>Years</th>\n",
       "      <th>CAtBat</th>\n",
       "      <th>CHits</th>\n",
       "      <th>CHmRun</th>\n",
       "      <th>CRuns</th>\n",
       "      <th>CRBI</th>\n",
       "      <th>CWalks</th>\n",
       "      <th>League</th>\n",
       "      <th>Division</th>\n",
       "      <th>PutOuts</th>\n",
       "      <th>Assists</th>\n",
       "      <th>Errors</th>\n",
       "      <th>Salary</th>\n",
       "      <th>NewLeague</th>\n",
       "    </tr>\n",
       "  </thead>\n",
       "  <tbody>\n",
       "    <tr>\n",
       "      <th>1</th>\n",
       "      <td>315</td>\n",
       "      <td>81</td>\n",
       "      <td>7</td>\n",
       "      <td>24</td>\n",
       "      <td>38</td>\n",
       "      <td>39</td>\n",
       "      <td>14</td>\n",
       "      <td>3449</td>\n",
       "      <td>835</td>\n",
       "      <td>69</td>\n",
       "      <td>321</td>\n",
       "      <td>414</td>\n",
       "      <td>375</td>\n",
       "      <td>N</td>\n",
       "      <td>W</td>\n",
       "      <td>632</td>\n",
       "      <td>43</td>\n",
       "      <td>10</td>\n",
       "      <td>475.0</td>\n",
       "      <td>N</td>\n",
       "    </tr>\n",
       "    <tr>\n",
       "      <th>2</th>\n",
       "      <td>479</td>\n",
       "      <td>130</td>\n",
       "      <td>18</td>\n",
       "      <td>66</td>\n",
       "      <td>72</td>\n",
       "      <td>76</td>\n",
       "      <td>3</td>\n",
       "      <td>1624</td>\n",
       "      <td>457</td>\n",
       "      <td>63</td>\n",
       "      <td>224</td>\n",
       "      <td>266</td>\n",
       "      <td>263</td>\n",
       "      <td>A</td>\n",
       "      <td>W</td>\n",
       "      <td>880</td>\n",
       "      <td>82</td>\n",
       "      <td>14</td>\n",
       "      <td>480.0</td>\n",
       "      <td>A</td>\n",
       "    </tr>\n",
       "    <tr>\n",
       "      <th>3</th>\n",
       "      <td>496</td>\n",
       "      <td>141</td>\n",
       "      <td>20</td>\n",
       "      <td>65</td>\n",
       "      <td>78</td>\n",
       "      <td>37</td>\n",
       "      <td>11</td>\n",
       "      <td>5628</td>\n",
       "      <td>1575</td>\n",
       "      <td>225</td>\n",
       "      <td>828</td>\n",
       "      <td>838</td>\n",
       "      <td>354</td>\n",
       "      <td>N</td>\n",
       "      <td>E</td>\n",
       "      <td>200</td>\n",
       "      <td>11</td>\n",
       "      <td>3</td>\n",
       "      <td>500.0</td>\n",
       "      <td>N</td>\n",
       "    </tr>\n",
       "    <tr>\n",
       "      <th>4</th>\n",
       "      <td>321</td>\n",
       "      <td>87</td>\n",
       "      <td>10</td>\n",
       "      <td>39</td>\n",
       "      <td>42</td>\n",
       "      <td>30</td>\n",
       "      <td>2</td>\n",
       "      <td>396</td>\n",
       "      <td>101</td>\n",
       "      <td>12</td>\n",
       "      <td>48</td>\n",
       "      <td>46</td>\n",
       "      <td>33</td>\n",
       "      <td>N</td>\n",
       "      <td>E</td>\n",
       "      <td>805</td>\n",
       "      <td>40</td>\n",
       "      <td>4</td>\n",
       "      <td>91.5</td>\n",
       "      <td>N</td>\n",
       "    </tr>\n",
       "    <tr>\n",
       "      <th>5</th>\n",
       "      <td>594</td>\n",
       "      <td>169</td>\n",
       "      <td>4</td>\n",
       "      <td>74</td>\n",
       "      <td>51</td>\n",
       "      <td>35</td>\n",
       "      <td>11</td>\n",
       "      <td>4408</td>\n",
       "      <td>1133</td>\n",
       "      <td>19</td>\n",
       "      <td>501</td>\n",
       "      <td>336</td>\n",
       "      <td>194</td>\n",
       "      <td>A</td>\n",
       "      <td>W</td>\n",
       "      <td>282</td>\n",
       "      <td>421</td>\n",
       "      <td>25</td>\n",
       "      <td>750.0</td>\n",
       "      <td>A</td>\n",
       "    </tr>\n",
       "  </tbody>\n",
       "</table>\n",
       "</div>"
      ],
      "text/plain": [
       "   AtBat  Hits  HmRun  Runs  RBI  Walks  Years  CAtBat  CHits  CHmRun  CRuns  \\\n",
       "1    315    81      7    24   38     39     14    3449    835      69    321   \n",
       "2    479   130     18    66   72     76      3    1624    457      63    224   \n",
       "3    496   141     20    65   78     37     11    5628   1575     225    828   \n",
       "4    321    87     10    39   42     30      2     396    101      12     48   \n",
       "5    594   169      4    74   51     35     11    4408   1133      19    501   \n",
       "\n",
       "   CRBI  CWalks League Division  PutOuts  Assists  Errors  Salary NewLeague  \n",
       "1   414     375      N        W      632       43      10   475.0         N  \n",
       "2   266     263      A        W      880       82      14   480.0         A  \n",
       "3   838     354      N        E      200       11       3   500.0         N  \n",
       "4    46      33      N        E      805       40       4    91.5         N  \n",
       "5   336     194      A        W      282      421      25   750.0         A  "
      ]
     },
     "execution_count": 10,
     "metadata": {},
     "output_type": "execute_result"
    }
   ],
   "source": [
    "import pandas as pd\n",
    "import seaborn as sns\n",
    "import statsmodels.api as sm\n",
    "from sklearn.linear_model import LinearRegression\n",
    "from sklearn.metrics import mean_squared_error, r2_score\n",
    "import statsmodels.formula.api as smf\n",
    "import numpy as np\n",
    "from sklearn.model_selection import train_test_split, cross_val_score, cross_val_predict\n",
    "\n",
    "hit = pd.read_csv(\"Hitters.csv\")\n",
    "df = hit.copy()\n",
    "df = df.dropna()\n",
    "df.head()\n",
    "\n"
   ]
  },
  {
   "cell_type": "code",
   "execution_count": null,
   "id": "57bbb89c",
   "metadata": {},
   "outputs": [],
   "source": [
    "ms = pd.get_dummies(df[['League', 'Division', 'NewLeague']])\n",
    "y = df[\"Salary\"]\n",
    "X_ = df.drop(['Salary', 'League', 'Division', 'NewLeague'], axis = 1).astype('float64')\n",
    "X = pd.concat([X_, ms[[\"League_N\", \"Division_W\", \"NewLeague_N\"]]], axis = 1)\n",
    "X_train, X_test, y_train, y_test = train_test_split(X, y, test_size=0.25,\n",
    "                                                   random_state = 42)"
   ]
  },
  {
   "cell_type": "markdown",
   "id": "ca2af821",
   "metadata": {},
   "source": [
    "###### PLS için gerekli kütüphaneler:"
   ]
  },
  {
   "cell_type": "code",
   "execution_count": 2,
   "id": "12a51123",
   "metadata": {},
   "outputs": [
    {
     "data": {
      "text/plain": [
       "array([[ 35.32916493],\n",
       "       [ 48.83425857],\n",
       "       [ 18.50240933],\n",
       "       [ 39.28117603],\n",
       "       [ 30.59952998],\n",
       "       [ 40.03398345],\n",
       "       [ 16.85990516],\n",
       "       [ 28.22289896],\n",
       "       [ 32.73784993],\n",
       "       [ 22.00875744],\n",
       "       [ 33.60903032],\n",
       "       [ 30.39402522],\n",
       "       [ 25.73279799],\n",
       "       [ 54.98835148],\n",
       "       [  6.56590871],\n",
       "       [ -0.90894359],\n",
       "       [ 17.60903423],\n",
       "       [-37.24246339],\n",
       "       [ 14.69680385]])"
      ]
     },
     "execution_count": 2,
     "metadata": {},
     "output_type": "execute_result"
    }
   ],
   "source": [
    "from sklearn.cross_decomposition import PLSRegression, PLSSVD\n",
    "pls_model = PLSRegression(n_components = 2).fit(X_train, y_train) # n_components = 2 --> iki bileşenli model kuruldu\n",
    "pls_model.coef_ # değişkenlerin katsıyalrı"
   ]
  },
  {
   "cell_type": "code",
   "execution_count": 3,
   "id": "ef1a52ae",
   "metadata": {},
   "outputs": [
    {
     "data": {
      "text/plain": [
       "array([[ 344.91941493],\n",
       "       [ 848.87070769],\n",
       "       [ 692.93622642],\n",
       "       [ 185.56577984],\n",
       "       [ 435.49196077],\n",
       "       [ 987.49530026],\n",
       "       [ 120.63097106],\n",
       "       [ 289.9263406 ],\n",
       "       [ 663.41886918],\n",
       "       [ 817.90486641],\n",
       "       [1400.82155793],\n",
       "       [ 889.55177741],\n",
       "       [ 966.02942625],\n",
       "       [ 761.83859363],\n",
       "       [ 817.87219643],\n",
       "       [ 778.83233464],\n",
       "       [ 947.29337036],\n",
       "       [   2.76773968],\n",
       "       [ -72.48003564],\n",
       "       [ 382.99117487],\n",
       "       [ 596.85479706],\n",
       "       [ 977.61608943],\n",
       "       [ 415.33783869],\n",
       "       [ 464.78071379],\n",
       "       [ -26.62516231],\n",
       "       [ 722.22493096],\n",
       "       [ 494.5057314 ],\n",
       "       [ 242.23751188],\n",
       "       [ 206.9261497 ],\n",
       "       [ 232.56490602],\n",
       "       [  64.4824203 ],\n",
       "       [ 542.14513157],\n",
       "       [ 947.14732555],\n",
       "       [ 194.89583773],\n",
       "       [ 362.6202354 ],\n",
       "       [ 295.26950277],\n",
       "       [ 439.33442044],\n",
       "       [ 776.65786654],\n",
       "       [ 317.39738256],\n",
       "       [ 137.13823539],\n",
       "       [ 103.25963596],\n",
       "       [ 206.20369642],\n",
       "       [ 139.57105168],\n",
       "       [ 120.59249853],\n",
       "       [ 230.30589651],\n",
       "       [1104.22505297],\n",
       "       [ 640.35250992],\n",
       "       [ 482.26330677],\n",
       "       [ 338.69287437],\n",
       "       [ 275.48478485],\n",
       "       [ 443.09856705],\n",
       "       [ 576.77544271],\n",
       "       [ 530.92923226],\n",
       "       [ 537.95696355],\n",
       "       [ 827.0093267 ],\n",
       "       [ 504.93654004],\n",
       "       [ 363.82023709],\n",
       "       [ 876.99960817],\n",
       "       [ 356.80129675],\n",
       "       [1190.55931812],\n",
       "       [ 489.16389588],\n",
       "       [ 387.90993107],\n",
       "       [ 333.91410512],\n",
       "       [ 431.10113491],\n",
       "       [ 300.39074812],\n",
       "       [ 758.6208842 ],\n",
       "       [ 131.04609319],\n",
       "       [ 520.52218812],\n",
       "       [ 191.42056216],\n",
       "       [ 282.47606677],\n",
       "       [ 193.01156511],\n",
       "       [ 840.08402686],\n",
       "       [ 753.19527348],\n",
       "       [ 743.7891691 ],\n",
       "       [1183.74115181],\n",
       "       [ 400.30437169],\n",
       "       [ 538.64139742],\n",
       "       [ 537.97462384],\n",
       "       [ 377.30735193],\n",
       "       [ 859.84520519],\n",
       "       [ 676.95220453],\n",
       "       [ 539.78005323],\n",
       "       [ 654.61041972],\n",
       "       [ 585.28159185],\n",
       "       [ 141.10256914],\n",
       "       [ 739.72520145],\n",
       "       [ 629.95930451],\n",
       "       [ 912.91829979],\n",
       "       [1096.94843574],\n",
       "       [ 675.58950122],\n",
       "       [ 389.27506923],\n",
       "       [ 126.18233799],\n",
       "       [1135.54329228],\n",
       "       [ 189.72952275],\n",
       "       [ 447.3487793 ],\n",
       "       [1205.6028998 ],\n",
       "       [ 942.20785658],\n",
       "       [ 504.31670339],\n",
       "       [ 823.62261845],\n",
       "       [ 728.07314615],\n",
       "       [ 599.83451369],\n",
       "       [ 170.12742898],\n",
       "       [ 627.0239192 ],\n",
       "       [1235.77222066],\n",
       "       [ 600.53824845],\n",
       "       [ 967.85772351],\n",
       "       [ 751.73087401],\n",
       "       [ 315.83907626],\n",
       "       [  40.21185627],\n",
       "       [ 656.51923183],\n",
       "       [ 693.59998687],\n",
       "       [ 521.10719277],\n",
       "       [ 368.06725332],\n",
       "       [ 672.66616253],\n",
       "       [ 520.88474402],\n",
       "       [ 426.42356447],\n",
       "       [ 945.09783753],\n",
       "       [ 867.06707213],\n",
       "       [ 403.29231445],\n",
       "       [ 270.93127792],\n",
       "       [ 645.6084524 ],\n",
       "       [ 648.90438928],\n",
       "       [1188.87984117],\n",
       "       [ 298.33915552],\n",
       "       [  42.27915174],\n",
       "       [ 376.97572887],\n",
       "       [1239.63066645],\n",
       "       [ 146.51149667],\n",
       "       [ 123.04845538],\n",
       "       [ 505.47950983],\n",
       "       [ 702.4254169 ],\n",
       "       [ 959.50114437],\n",
       "       [1239.1007946 ],\n",
       "       [ 776.87746259],\n",
       "       [ 789.23934969],\n",
       "       [ 298.65115235],\n",
       "       [ 823.65710328],\n",
       "       [ 367.43866005],\n",
       "       [ 179.95264275],\n",
       "       [ 829.57445606],\n",
       "       [ 103.00694918],\n",
       "       [ 501.81907706],\n",
       "       [ 396.99923891],\n",
       "       [ 490.7660317 ],\n",
       "       [ 180.80303113],\n",
       "       [ 274.55295078],\n",
       "       [ 222.69186223],\n",
       "       [ 474.33940522],\n",
       "       [ 550.49814828],\n",
       "       [1393.23366147],\n",
       "       [ 360.88370197],\n",
       "       [  39.23245348],\n",
       "       [  49.20652544],\n",
       "       [ 149.43425153],\n",
       "       [ 830.79509324],\n",
       "       [ 203.05489531],\n",
       "       [1147.57610967],\n",
       "       [ 137.07714902],\n",
       "       [ 800.89191645],\n",
       "       [ 707.52323994],\n",
       "       [ 392.05240032],\n",
       "       [ 411.1240772 ],\n",
       "       [1020.23625053],\n",
       "       [ 117.75552976],\n",
       "       [ 579.30374076],\n",
       "       [ 761.91992915],\n",
       "       [ 311.53705643],\n",
       "       [ 183.07167536],\n",
       "       [ 718.64239608],\n",
       "       [ 630.78907744],\n",
       "       [ 645.78421187],\n",
       "       [ 245.93783229],\n",
       "       [ 733.19794244],\n",
       "       [ 805.20782122],\n",
       "       [ 282.51456849],\n",
       "       [ 237.11595709],\n",
       "       [ 613.03085516],\n",
       "       [ 682.56957162],\n",
       "       [ 712.55731196],\n",
       "       [ 975.11593361],\n",
       "       [ 360.84289278],\n",
       "       [ 471.06738571],\n",
       "       [  89.68525531],\n",
       "       [ 529.86821565],\n",
       "       [ 475.45745999],\n",
       "       [ 676.95590287],\n",
       "       [ 704.94902994],\n",
       "       [ 589.47128919],\n",
       "       [ 236.74078393],\n",
       "       [ 390.70412149],\n",
       "       [ 248.82957373],\n",
       "       [ 729.62298853],\n",
       "       [1280.21593346],\n",
       "       [1129.60331022],\n",
       "       [ 516.03035739],\n",
       "       [ 576.90715528],\n",
       "       [ 233.51115388]])"
      ]
     },
     "execution_count": 3,
     "metadata": {},
     "output_type": "execute_result"
    }
   ],
   "source": [
    "# Tahmin\n",
    "pls_model.predict(X_train)"
   ]
  },
  {
   "cell_type": "code",
   "execution_count": 4,
   "id": "df139d4a",
   "metadata": {},
   "outputs": [
    {
     "name": "stdout",
     "output_type": "stream",
     "text": [
      "egitim hatası\n",
      "310.1167593109696\n"
     ]
    }
   ],
   "source": [
    "\"TRAİN HATAMIZ\"\n",
    "y_pred = pls_model.predict(X_train)\n",
    "print(\"egitim hatası\")\n",
    "print(np.sqrt(mean_squared_error(y_train, y_pred)))\n",
    "\n"
   ]
  },
  {
   "cell_type": "code",
   "execution_count": 5,
   "id": "f2318d10",
   "metadata": {},
   "outputs": [
    {
     "name": "stdout",
     "output_type": "stream",
     "text": [
      "r2 degeri:\n"
     ]
    },
    {
     "data": {
      "text/plain": [
       "0.5140424486535482"
      ]
     },
     "execution_count": 5,
     "metadata": {},
     "output_type": "execute_result"
    }
   ],
   "source": [
    "print(\"r2 degeri:\")\n",
    "r2_score(y_train, y_pred)"
   ]
  },
  {
   "cell_type": "code",
   "execution_count": 6,
   "id": "dd7c45bb",
   "metadata": {},
   "outputs": [
    {
     "data": {
      "text/plain": [
       "398.09956327448526"
      ]
     },
     "execution_count": 6,
     "metadata": {},
     "output_type": "execute_result"
    }
   ],
   "source": [
    "\"TEST HATAMIZ\"\n",
    "y_pred = pls_model.predict(X_test) # modeli kullanarak x test'i tahmin et diyoruz\n",
    "# x test --> X_test içinde olan bağımsız değişkenlerin değlerini alacak bizim modelde hesapladığımız katsayıların yerine koyacak her gözlem için bir y tahmin değeri hesaplayacak\n",
    "np.sqrt(mean_squared_error(y_test, y_pred))"
   ]
  },
  {
   "cell_type": "markdown",
   "id": "13cb4284",
   "metadata": {},
   "source": [
    "# MODEL TUNİNG"
   ]
  },
  {
   "cell_type": "code",
   "execution_count": 7,
   "id": "21f477e5",
   "metadata": {},
   "outputs": [
    {
     "data": {
      "text/plain": [
       "Text(0.5, 1.0, 'Salary')"
      ]
     },
     "execution_count": 7,
     "metadata": {},
     "output_type": "execute_result"
    },
    {
     "data": {
      "image/png": "[encoded data removed]",
      "text/plain": [
       "<Figure size 432x288 with 1 Axes>"
      ]
     },
     "metadata": {
      "needs_background": "dark"
     },
     "output_type": "display_data"
    }
   ],
   "source": [
    "# CV\n",
    "from sklearn import model_selection\n",
    "cv_10 = model_selection.KFold(n_splits = 10, \n",
    "                              shuffle = True, \n",
    "                              random_state = 1)\n",
    "# Hata saptama döngüsü\n",
    "RMSE = []\n",
    "for i in np.arange(1, X_train.shape[1] + 1):\n",
    "    pls = PLSRegression(n_components = i)\n",
    "    score = np.sqrt(-1 * cross_val_score(pls, X_train, y_train, cv = cv_10, scoring = 'neg_mean_squared_error').mean()) # Negative mean squared error \n",
    "    RMSE.append(score)\n",
    "    \n",
    "# Sonuçların modellenmesi\n",
    "import matplotlib.pyplot as plt\n",
    "plt.plot(np.arange(1, X_train.shape[1] +1), np.array(RMSE), '-v', c = 'r')\n",
    "plt.xlabel('Bilesen Sayisi')\n",
    "plt.ylabel('RMSE')\n",
    "plt.xticks(color = 'white')\n",
    "plt.yticks(color = 'white')\n",
    "plt.title('Salary')"
   ]
  },
  {
   "cell_type": "code",
   "execution_count": 8,
   "id": "d943d791",
   "metadata": {},
   "outputs": [
    {
     "name": "stdout",
     "output_type": "stream",
     "text": [
      "398.09956327448526\n"
     ]
    }
   ],
   "source": [
    "pls_model = PLSRegression(n_components = 2).fit(X_train, y_train)\n",
    "y_pred = pls_model.predict(X_test)\n",
    "print(np.sqrt(mean_squared_error(y_test, y_pred)))"
   ]
  },
  {
   "cell_type": "code",
   "execution_count": 9,
   "id": "43ca3625",
   "metadata": {},
   "outputs": [
    {
     "data": {
      "text/plain": [
       "0.2678940112232917"
      ]
     },
     "execution_count": 9,
     "metadata": {},
     "output_type": "execute_result"
    }
   ],
   "source": [
    "from sklearn.metrics import mean_squared_error, r2_score\n",
    "r2_score(y_test, y_pred)"
   ]
  },
  {
   "cell_type": "code",
   "execution_count": null,
   "id": "e5cacc54",
   "metadata": {},
   "outputs": [],
   "source": []
  }
 ],
 "metadata": {
  "kernelspec": {
   "display_name": "Python 3",
   "language": "python",
   "name": "python3"
  },
  "language_info": {
   "codemirror_mode": {
    "name": "ipython",
    "version": 3
   },
   "file_extension": ".py",
   "mimetype": "text/x-python",
   "name": "python",
   "nbconvert_exporter": "python",
   "pygments_lexer": "ipython3",
   "version": "3.8.8"
  }
 },
 "nbformat": 4,
 "nbformat_minor": 5
}
